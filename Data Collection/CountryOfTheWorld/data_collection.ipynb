{
 "cells": [
  {
   "cell_type": "code",
   "execution_count": 1,
   "metadata": {
    "collapsed": true
   },
   "outputs": [],
   "source": [
    "import requests\n",
    "from bs4 import BeautifulSoup\n",
    "\n"
   ]
  },
  {
   "cell_type": "code",
   "execution_count": 2,
   "outputs": [],
   "source": [
    "def normalize_names(country_name):\n",
    "    res = country_name\n",
    "    res = res.lower()\n",
    "    res = res.replace(',', '')\n",
    "    res = res.replace('-', '')\n",
    "    res = res.replace('republic of the', '')\n",
    "    res = res.replace('democratic', '')\n",
    "    res = res.replace('federated states of', '')\n",
    "    res = res.replace('cabo', 'cape')\n",
    "    res = res.strip()\n",
    "    res = res.title()\n",
    "    res = res.replace('And', 'and')\n",
    "    res = res.split(' (')[0]\n",
    "    return res\n"
   ],
   "metadata": {
    "collapsed": false,
    "pycharm": {
     "name": "#%%\n"
    }
   }
  },
  {
   "cell_type": "code",
   "execution_count": 3,
   "outputs": [],
   "source": [
    "def get_continent_pop_prospect():\n",
    "    url = 'https://www.countries-ofthe-world.com/continents-of-the-world.html'\n",
    "    headers = {'user-agent': 'Mozilla/5.0 (Windows NT 6.3; Win64; x64) AppleWebKit/537.36 (KHTML, like Gecko)'\n",
    "                             ' Chrome/87.0.4280.88 Safari/537.36'}\n",
    "\n",
    "    response = requests.get(url, headers=headers)\n",
    "    soup = BeautifulSoup(response.content, 'lxml')\n",
    "\n",
    "    pop_prospect = {}\n",
    "\n",
    "    for row in soup.find_all('table')[1].tbody.find_all('tr'):\n",
    "        tds = row.find_all('td')\n",
    "        pop_prospect[tds[1].text] = tds[-1].text\n",
    "    return pop_prospect"
   ],
   "metadata": {
    "collapsed": false,
    "pycharm": {
     "name": "#%%\n"
    }
   }
  },
  {
   "cell_type": "code",
   "execution_count": 4,
   "outputs": [],
   "source": [
    "def get_country_domains():\n",
    "    url = 'https://www.countries-ofthe-world.com/TLD-list.html'\n",
    "    headers = {'user-agent': 'Mozilla/5.0 (Windows NT 6.3; Win64; x64) AppleWebKit/537.36 (KHTML, like Gecko)'\n",
    "                             ' Chrome/87.0.4280.88 Safari/537.36'}\n",
    "    response = requests.get(url, headers=headers)\n",
    "    soup = BeautifulSoup(response.content, 'lxml')\n",
    "    domains = {}\n",
    "    for table in soup.find_all('table'):\n",
    "        for row in table.tbody.find_all('tr'):\n",
    "            tds = row.find_all('td')\n",
    "            if len(tds) > 1 and not tds[1].has_attr('class'):\n",
    "                domains[normalize_names(tds[1].text)] = tds[0].text\n",
    "\n",
    "    return domains\n"
   ],
   "metadata": {
    "collapsed": false,
    "pycharm": {
     "name": "#%%\n"
    }
   }
  },
  {
   "cell_type": "code",
   "execution_count": 5,
   "outputs": [],
   "source": [
    "def get_country_timezones():\n",
    "    url = 'https://www.countries-ofthe-world.com/world-time-zones.html'\n",
    "    headers = {'user-agent': 'Mozilla/5.0 (Windows NT 6.3; Win64; x64) AppleWebKit/537.36 (KHTML, like Gecko) '\n",
    "                             'Chrome/87.0.4280.88 Safari/537.36'}\n",
    "\n",
    "    response = requests.get(url, headers=headers)\n",
    "    soup = BeautifulSoup(response.content, 'lxml')\n",
    "\n",
    "    timezones = {}\n",
    "    for row in soup.tbody.find_all('tr'):\n",
    "        tds = row.find_all('td')\n",
    "\n",
    "        if not tds[0].has_attr('class'):\n",
    "            timezones[normalize_names(tds[0].text)] = tds[1].text\n",
    "        elif tds[0]['class'][0] == 'mlt':\n",
    "            url2 = 'https://www.countries-ofthe-world.com/'+tds[0].a['href']\n",
    "            response2 = requests.get(url2, headers=headers)\n",
    "            soup2 = BeautifulSoup(response2.content, 'lxml')\n",
    "            nested_timezones = set()\n",
    "            for i in soup2.table.tbody.find_all('tr'):\n",
    "                if len(i.find_all('td')) >= 2:\n",
    "                    nested_timezones.add(i.find_all('td')[-2].text)\n",
    "            timezones[tds[0].span.text] = list(nested_timezones)\n",
    "        elif row.has_attr('class') and row['class'][0] == 'green':\n",
    "            if tds[0].text[:-3].split(',')[0] in timezones:\n",
    "                if type(timezones[tds[0].text[:-3].split(',')[0]]) == str:\n",
    "                    first_item = timezones[tds[0].text[:-3].split(',')[0]]\n",
    "                    timezones[tds[0].text[:-3].split(',')[0]] = {first_item}\n",
    "                timezones[tds[0].text[:-3].split(',')[0]].add(tds[1].text)\n",
    "            else:\n",
    "                timezones[tds[0].text[:-3].split(',')[0]] = {tds[1].text}\n",
    "    for item in timezones.keys():\n",
    "        if type(timezones[item]) == set:\n",
    "            timezones[item] = list(timezones[item])\n",
    "    return timezones\n"
   ],
   "metadata": {
    "collapsed": false,
    "pycharm": {
     "name": "#%%\n"
    }
   }
  },
  {
   "cell_type": "code",
   "execution_count": 6,
   "outputs": [],
   "source": [
    "def get_country_codes():\n",
    "    url = 'https://www.countries-ofthe-world.com/list-of-country-calling-codes.html'\n",
    "    headers = {'user-agent': 'Mozilla/5.0 (Windows NT 6.3; Win64; x64) AppleWebKit/537.36 (KHTML, like Gecko) '\n",
    "                             'Chrome/87.0.4280.88 Safari/537.36'}\n",
    "\n",
    "    response = requests.get(url, headers=headers)\n",
    "    soup = BeautifulSoup(response.content, 'lxml')\n",
    "\n",
    "    calling_codes = {}\n",
    "    for row in soup.tbody.find_all('tr'):\n",
    "        if not row.find_all('td')[1].has_attr('class'):\n",
    "            country_name = normalize_names(row.find_all('td')[1].text)\n",
    "            code = row.find_all('td')[0].text\n",
    "            calling_codes[country_name] = code\n",
    "    del calling_codes['Australian External Territories']\n",
    "    return calling_codes\n"
   ],
   "metadata": {
    "collapsed": false,
    "pycharm": {
     "name": "#%%\n"
    }
   }
  },
  {
   "cell_type": "code",
   "execution_count": 7,
   "outputs": [],
   "source": [
    "pop_prospect_data = get_continent_pop_prospect()\n",
    "code_data = get_country_codes()\n",
    "timezones_data = get_country_timezones()\n",
    "domains_data = get_country_domains()\n",
    "\n"
   ],
   "metadata": {
    "collapsed": false,
    "pycharm": {
     "name": "#%%\n"
    }
   }
  }
 ],
 "metadata": {
  "kernelspec": {
   "display_name": "Python 3",
   "language": "python",
   "name": "python3"
  },
  "language_info": {
   "codemirror_mode": {
    "name": "ipython",
    "version": 2
   },
   "file_extension": ".py",
   "mimetype": "text/x-python",
   "name": "python",
   "nbconvert_exporter": "python",
   "pygments_lexer": "ipython2",
   "version": "2.7.6"
  }
 },
 "nbformat": 4,
 "nbformat_minor": 0
}