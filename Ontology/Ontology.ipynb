{
 "cells": [
  {
   "cell_type": "code",
   "execution_count": 1,
   "metadata": {},
   "outputs": [
    {
     "name": "stderr",
     "output_type": "stream",
     "text": [
      "* Owlready2 * Warning: optimized Cython parser module 'owlready2_optimized' is not available, defaulting to slower Python implementation\n"
     ]
    }
   ],
   "source": [
    "import csv\n",
    "import pandas as pd\n",
    "from owlready2 import *\n",
    "import numpy as np\n",
    "from unidecode import unidecode\n",
    "import math"
   ]
  },
  {
   "cell_type": "markdown",
   "metadata": {},
   "source": [
    "# Import Data"
   ]
  },
  {
   "cell_type": "code",
   "execution_count": 2,
   "metadata": {},
   "outputs": [],
   "source": [
    "countries_df_final = pd.read_csv('./data/countries_df_final.csv', index_col='Index', encoding=\"utf-16\")    \n",
    "regions_df_final = pd.read_csv('./data/regions_df_final.csv', index_col='Index')    \n",
    "continents_df_final = pd.read_csv('./data/continents_df_final.csv', index_col='Index')"
   ]
  },
  {
   "cell_type": "markdown",
   "metadata": {},
   "source": [
    "# PreProcess"
   ]
  },
  {
   "cell_type": "code",
   "execution_count": 3,
   "metadata": {},
   "outputs": [],
   "source": [
    "def edit_prospect_value(text):    \n",
    "    \n",
    "    if text.replace(\",\", \"\").isnumeric():\n",
    "        return int(text.replace(\",\", \"\"))\n",
    "    else:\n",
    "        return sum( map(int, text.replace(\",\", \"\").replace(\"(N)\", \"\").replace(\"(S)\", \"\").split('/')))\n",
    "\n",
    "\n",
    "continents_df_final['Population prospect by 2050'] = continents_df_final['Population prospect by 2050'].apply(lambda x: edit_prospect_value(x))\n",
    "countries_df_final['Capital city'] = countries_df_final['Capital city'].apply(lambda x: unidecode(str(x)))\n",
    "countries_df_final['UTC time offset'] = countries_df_final['UTC time offset'].apply(lambda x: unidecode(str(x)))\n",
    "countries_df_final['Code'] = countries_df_final['Code'].apply(lambda x: str(x).replace(\"1 \", \"1\"))"
   ]
  },
  {
   "cell_type": "markdown",
   "metadata": {},
   "source": [
    "# Define Namespces"
   ]
  },
  {
   "cell_type": "code",
   "execution_count": 4,
   "metadata": {},
   "outputs": [],
   "source": [
    "geo_ontology = get_ontology(\"http://ce.sharif.edu/onto\")\n",
    "\n",
    "ns_country = get_ontology(\"http://ce.sharif.edu/onto/country\")\n",
    "ns_region = get_ontology(\"http://ce.sharif.edu/onto/region\")\n",
    "ns_continent = get_ontology(\"http://ce.sharif.edu/onto/continent\")\n",
    "ns_lang = get_ontology(\"http://ce.sharif.edu/onto/language\")"
   ]
  },
  {
   "cell_type": "markdown",
   "metadata": {},
   "source": [
    "# Define Classes"
   ]
  },
  {
   "cell_type": "code",
   "execution_count": 5,
   "metadata": {},
   "outputs": [],
   "source": [
    "with geo_ontology:\n",
    "    class Territory(Thing): \n",
    "        pass\n",
    "    class Country(Territory): \n",
    "        namespace = ns_country\n",
    "        \n",
    "    class Region(Territory): \n",
    "        namespace = ns_region\n",
    "\n",
    "    class Continent(Territory): \n",
    "        namespace = ns_continent\n",
    "        \n",
    "    class Language(Thing):\n",
    "        namespace = ns_lang\n",
    "        \n",
    "    AllDisjoint([Continent, Country, Region, Language])"
   ]
  },
  {
   "cell_type": "markdown",
   "metadata": {},
   "source": [
    "# Object Properties\n"
   ]
  },
  {
   "cell_type": "code",
   "execution_count": 6,
   "metadata": {},
   "outputs": [],
   "source": [
    "with geo_ontology:\n",
    "    \n",
    "    #Country\n",
    "    class neighbour_of(Country >> Country): \n",
    "        pass\n",
    "    \n",
    "    class country_has_region(Country >> Region, FunctionalProperty): \n",
    "        pass\n",
    "    \n",
    "    class has_language(Country >> Language): \n",
    "        pass\n",
    "\n",
    "    #Region\n",
    "    class region_has_country(Region >> Country, InverseFunctionalProperty): \n",
    "        inverse_property = country_has_region\n",
    "        \n",
    "    class region_has_subregion(Region >> Region, InverseFunctionalProperty):\n",
    "        pass\n",
    "\n",
    "    class subregion_has_region(Region >> Region, InverseFunctionalProperty):\n",
    "        inverse_property = region_has_subregion\n",
    "    \n",
    "    class region_has_continent(Region >> Continent, FunctionalProperty): \n",
    "        pass\n",
    "    \n",
    "    \n",
    "    #Continent\n",
    "    class continent_has_region(Continent >> Region): \n",
    "        inverse_property = region_has_continent\n"
   ]
  },
  {
   "cell_type": "markdown",
   "metadata": {},
   "source": [
    "# Data Type Properties\n"
   ]
  },
  {
   "cell_type": "code",
   "execution_count": 7,
   "metadata": {},
   "outputs": [],
   "source": [
    "with geo_ontology:\n",
    "    \n",
    "    #Teritory\n",
    "    class tr_name(Territory >> str, FunctionalProperty): pass\n",
    "    class tr_population(Territory >> int, FunctionalProperty): pass\n",
    "    class tr_area(Territory >> int, FunctionalProperty): pass\n",
    "    class tr_pupulation_prospect(Continent >> int, FunctionalProperty): pass\n",
    "    \n",
    "    \n",
    "    #Country\n",
    "    class c_code(Country >> int): pass\n",
    "    class c_capital(Country >> str, FunctionalProperty): pass\n",
    "    class c_currency(Country >> str, FunctionalProperty): pass\n",
    "    class c_toffset(Country >> str): pass\n",
    "    class c_domain(Country >> str, FunctionalProperty): pass\n",
    "    class c_population_density(Country >> float, FunctionalProperty): pass\n",
    "    class c_capital_population(Country >> int, FunctionalProperty): pass\n",
    "    class c_sex_ratio(Country >> float, FunctionalProperty): pass\n",
    "    class c_gdp(Country >> int, FunctionalProperty): pass\n",
    "    class c_gdp_rate(Country >> float, FunctionalProperty): pass"
   ]
  },
  {
   "cell_type": "markdown",
   "metadata": {},
   "source": [
    "# Insert Data"
   ]
  },
  {
   "cell_type": "code",
   "execution_count": 8,
   "metadata": {},
   "outputs": [],
   "source": [
    "def convertURI(text):\n",
    "    return unidecode(text).replace(\"&\", \"and\").replace(\" \", \"_\").replace(\"-\", \"_\")\n",
    "\n",
    "def normalize(text):\n",
    "    return unidecode(text).replace(\"&\", \"and\")"
   ]
  },
  {
   "cell_type": "code",
   "execution_count": 9,
   "metadata": {},
   "outputs": [],
   "source": [
    "with geo_ontology:\n",
    "    for index, row in continents_df_final.iterrows():\n",
    "        the_continent = Continent(convertURI(row['Index.1']), ns_continent, tr_name=normalize(row['Index.1'])) \n",
    "        if row['Surface area(km2)']: the_continent.tr_area = int(row['Surface area(km2)'])\n",
    "        if row['Population(000, 2020)']: the_continent.tr_population = int(row['Population(000, 2020)'])\n",
    "        if row['Population prospect by 2050']: the_continent.tr_pupulation_prospect = int(row['Population prospect by 2050'])\n",
    "\n",
    "        if row['Regions']:\n",
    "            for i in row['Regions'].replace(\"[\",\"\").replace(\"]\", \"\").replace(\"'\",\"\").split(\", \"):\n",
    "                the_region = Region(convertURI(i), ns_region) \n",
    "                the_continent.continent_has_region.append(the_region)"
   ]
  },
  {
   "cell_type": "code",
   "execution_count": 10,
   "metadata": {},
   "outputs": [],
   "source": [
    "with geo_ontology:\n",
    "    for index, row in regions_df_final.iterrows():\n",
    "        the_region = Region(convertURI(row['Index.1']), ns_region, tr_name=normalize(row['Index.1'])) \n",
    "        if row['Surface area(km2)']: the_region.tr_area = int(row['Surface area(km2)'])\n",
    "        if row['Population(000, 2020)']: the_region.tr_population = int(row['Population(000, 2020)'])\n",
    "            \n",
    "        if row['Region'] in ['Sub-Saharan Africa', 'Latin America & Caribbean']:\n",
    "            the_super_region = Region(convertURI(row['Region']), ns_region) \n",
    "            the_region.subregion_has_region.append(the_super_region)\n",
    "            \n",
    "        if str(row['Countries'])!='nan':\n",
    "            for i in str(row['Countries']).replace(\"[\",\"\").replace(\"]\", \"\").replace(\"'\",\"\").split(\", \"):\n",
    "                the_country = Country(convertURI(i), ns_country) \n",
    "                the_region.region_has_country.append(the_country)            "
   ]
  },
  {
   "cell_type": "code",
   "execution_count": 11,
   "metadata": {},
   "outputs": [],
   "source": [
    "with geo_ontology:\n",
    "    for index, row in countries_df_final.iterrows():\n",
    "        the_country = Country(convertURI(row['Index.1']), ns_country, tr_name=normalize(row['Index.1']))\n",
    "        \n",
    "        if str(row['Surface area(km2)'])!='nan':\n",
    "            try:\n",
    "                the_country.tr_area = int(row['Surface area(km2)'])\n",
    "            except:\n",
    "                pass #~0\n",
    "                \n",
    "        if row['Code']!='nan':\n",
    "            for i in str(row['Code']).split(\" \"):\n",
    "                the_country.c_code.append(int(i))\n",
    "\n",
    "        if row['Capital city']!='nan':\n",
    "            the_country.c_capital =  normalize(row['Capital city'])\n",
    "            \n",
    "        if str(row['Currency+ISO-4217'])!='nan':\n",
    "            the_country.c_currency = str(row['Currency+ISO-4217'])\n",
    "\n",
    "        if row['UTC time offset']!='nan':\n",
    "            for i in row['UTC time offset'].replace(\"[\",\"\").replace(\"]\", \"\").replace(\"'\",\"\").split(\", \"):\n",
    "                the_country.c_toffset.append(str(i))\n",
    "        \n",
    "        if str(row['Internet Domain'])!='nan':\n",
    "            the_country.c_domain = str(row['Internet Domain']).replace(\".\", \"\")\n",
    "            \n",
    "        if str(row['Pop. density(per km2, 2020)'])!='nan':\n",
    "            the_country.c_population_density = float(row['Pop. density(per km2, 2020)'])\n",
    "            \n",
    "        if str(row['Capital city pop.(000, 2020)'])!='nan':\n",
    "            try:\n",
    "                the_country.c_capital_population = float(row['Capital city pop.(000, 2020)'])\n",
    "            except:\n",
    "                pass #date!\n",
    "            \n",
    "        if str(row['Sex ratio(m per 100 f)'])!='nan':\n",
    "            the_country.c_sex_ratio = float(row['Sex ratio(m per 100 f)'])\n",
    "        \n",
    "        if str(row['GDP: Gross domestic product(million current US$)'])!='nan':\n",
    "            the_country.c_gdp = int(row['GDP: Gross domestic product(million current US$)'])\n",
    " \n",
    "        if str(row['GDP growth rate(annual %, const. 2015 prices)'])!='nan':\n",
    "            try:\n",
    "                the_country.c_gdp_rate = float(row['GDP growth rate(annual %, const. 2015 prices)'])\n",
    "            except:\n",
    "                pass #~0.0\n",
    "        \n",
    "        if str(row['Language'])!='nan':\n",
    "            for i in str(row['Language']).replace(\"[\",\"\").replace(\"]\", \"\").replace(\"'\",\"\").split(\", \"):\n",
    "                if i not in ['No offical language in India', '', '37 other languages']:\n",
    "                    if row['Index.1'] =='India':\n",
    "                        print(i)\n",
    "                    the_lang = Language(convertURI(i), ns_lang) \n",
    "                    the_country.has_language.append(the_lang)\n",
    "                                        \n",
    "        if str(row['Neighbors'])!='nan' and str(row['Neighbors'])!='[]':\n",
    "            for i in str(row['Neighbors']).replace(\"[\",\"\").replace(\"]\", \"\").replace(\"'\",\"\").split(\", \"):\n",
    "                the_neighbor = Country(convertURI(i), ns_country) \n",
    "                the_country.neighbour_of.append(the_neighbor)"
   ]
  },
  {
   "cell_type": "code",
   "execution_count": 12,
   "metadata": {},
   "outputs": [],
   "source": [
    "geo_ontology.save(file=\"./output/ontology.owl\")"
   ]
  },
  {
   "cell_type": "code",
   "execution_count": 23,
   "metadata": {},
   "outputs": [
    {
     "name": "stdout",
     "output_type": "stream",
     "text": [
      "population_growth_rate\n",
      "\turban_population\n",
      "\turban_population_growth_rate\n",
      "\tfertility_rate,_total\n",
      "\tlife_expectancy_at_birth\n",
      "\tpopulation_age_distribution\n",
      "\tinternational_migrant_stock\n",
      "\trefugees_and_others_of_concern_to_unhcr\n",
      "\tinfant_mortality_rate\n",
      "\thealth_current_expenditure\n",
      "\thealth_physicians\n",
      "\teducation_government_expenditure\n",
      "\teducation_primary_gross_enrol_ratio\n",
      "\teducation_secondary_gross_enrol_ratio\n",
      "\teducation_tertiary_gross_enrol_ratio\n",
      "\tintentional_homicide_rate\n",
      "\tseats_held_by_women_in_national_parliaments\n",
      "\tindividuals_using_the_internet\n",
      "\tthreatened_species\n",
      "\tforested_area\n",
      "\tenergy_production,_primary\n",
      "\tenergy_supply_per_capita\n",
      "\timportant_sites_for_terrestrial_biodiversity_protected\n",
      "\tnet_official_development_assist_received\n",
      "\tresearch_&_development_expenditure\n",
      "\tco2_emission_estimates\n",
      "\ttouristvisitor_arrivals_at_national_borders\n",
      "\tpop_using_safely_managed_sanitation\n",
      "\tpop_using_safely_managed_drinking_water\n",
      "\tnet_official_development_assist_disbursed\n",
      "\n"
     ]
    }
   ],
   "source": [
    "#TODO \n",
    "a = \"Population growth rate(average annual %)\tUrban population(% of total population)\tUrban population growth rate(average annual %)\tFertility rate, total(live births per woman)\tLife expectancy at birth(females/males, years)\tPopulation age distribution(0-14/60+ years old, %)\tInternational migrant stock(000/% of total pop.)\tRefugees and others of concern to UNHCR(000)\tInfant mortality rate(per 1 000 live births)\tHealth: Current expenditure(% of GDP)\tHealth: Physicians(per 1 000 pop.)\tEducation: Government expenditure(% of GDP)\tEducation: Primary gross enrol. ratio(f/m per 100 pop.)\tEducation: Secondary gross enrol. ratio(f/m per 100 pop.)\tEducation: Tertiary gross enrol. ratio(f/m per 100 pop.)\tIntentional homicide rate(per 100 000 pop.)\tSeats held by women in national parliaments(%)\tIndividuals using the Internet(per 100 inhabitants)\tThreatened species(number)\tForested area(% of land area)\tEnergy production, primary(Petajoules)\tEnergy supply per capita(Gigajoules)\tImportant sites for terrestrial biodiversity protected(%)\tNet Official Development Assist. received(% of GNI)\tResearch & Development expenditure(% of GDP)\tCO2 emission estimates(million tons/tons per capita)\tTourist/visitor arrivals at national borders(000)\tPop. using safely managed sanitation(urban/rural %)\tPop. using safely managed drinking water(urban/rural, %)\tNet Official Development Assist. disbursed(% of GNI)\"\n",
    "for i in a.split(\")\"):\n",
    "    print(i.split('(')[0].replace(\".\", \"\").replace(\" \", \"_\"). replace(\":\",\"\").replace(\"/\", \"\").lower())"
   ]
  },
  {
   "cell_type": "code",
   "execution_count": null,
   "metadata": {},
   "outputs": [],
   "source": []
  }
 ],
 "metadata": {
  "kernelspec": {
   "display_name": "Python 3",
   "language": "python",
   "name": "python3"
  },
  "language_info": {
   "codemirror_mode": {
    "name": "ipython",
    "version": 3
   },
   "file_extension": ".py",
   "mimetype": "text/x-python",
   "name": "python",
   "nbconvert_exporter": "python",
   "pygments_lexer": "ipython3",
   "version": "3.6.5"
  }
 },
 "nbformat": 4,
 "nbformat_minor": 2
}
