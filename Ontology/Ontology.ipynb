{
 "cells": [
  {
   "cell_type": "code",
   "execution_count": null,
   "metadata": {},
   "outputs": [],
   "source": [
    "import csv\n",
    "import pandas as pd\n",
    "from owlready2 import *\n",
    "import csv"
   ]
  },
  {
   "cell_type": "code",
   "execution_count": null,
   "metadata": {},
   "outputs": [],
   "source": [
    "continents_df_final = pd.read_csv('./data/continents_df_final.csv', index_col='Index')\n",
    "continents_df_final"
   ]
  },
  {
   "cell_type": "code",
   "execution_count": 7,
   "metadata": {},
   "outputs": [],
   "source": [
    "#if row['Population prospect by 2050']: continent.populationProspect = int(row['Population prospect by 2050'])"
   ]
  },
  {
   "cell_type": "code",
   "execution_count": null,
   "metadata": {},
   "outputs": [],
   "source": [
    "geo_ontology = get_ontology(\"http://ce.sharif.edu/onto\")\n",
    "\n",
    "ns_continent = get_ontology(\"http://ce.sharif.edu/onto/continent\")\n",
    "ns_country = get_ontology(\"http://ce.sharif.edu/onto/country\")\n",
    "ns_region = get_ontology(\"http://ce.sharif.edu/onto/region\")\n",
    "ns_lang = get_ontology(\"http://ce.sharif.edu/onto/language\")\n",
    "\n",
    "with geo_ontology:\n",
    "    class Territory(Thing): pass\n",
    "    class Continent(Territory): namespace = ns_continent\n",
    "    class Country(Territory): namespace = ns_country\n",
    "    class Region(Territory): namespace = ns_region\n",
    "    class Language(Thing): namespace = ns_lang\n",
    "    AllDisjoint([Continent, Country, Region, Language])\n",
    "    "
   ]
  },
  {
   "cell_type": "code",
   "execution_count": null,
   "metadata": {},
   "outputs": [],
   "source": [
    "with geo_ontology:\n",
    "# Object properties\n",
    "    class isNeighborWith(Country >> Country): pass\n",
    "    class hasCountry(Region >> Country): pass\n",
    "    class region(Country >> Region, FunctionalProperty): inverse_property = hasCountry\n",
    "    class hasLanguage(Country >> Language): pass\n",
    "    class hasRegion(Continent >> Region): pass\n",
    "    class continent(Region >> Continent, FunctionalProperty): inverse_property = hasRegion\n",
    "    # Data properties\n",
    "    class population(Territory >> int, FunctionalProperty): pass\n",
    "    class area(Territory >> int, FunctionalProperty): pass\n",
    "    class callingCode(Country >> int, FunctionalProperty): pass\n",
    "    class capital(Country >> str, FunctionalProperty): pass\n",
    "    class capitalCityPopulation(Country >> int, FunctionalProperty): pass\n",
    "    class gdp(Country >> float, FunctionalProperty): pass\n",
    "    class gdpGrowth(Country >> float, FunctionalProperty): pass\n",
    "    class internetTld(Country >> str, FunctionalProperty): pass\n",
    "    class iso247(Country >> str, FunctionalProperty): pass\n",
    "    class fullName(Territory >> str, FunctionalProperty): pass\n",
    "    class populationDensity(Country >> float, FunctionalProperty): pass\n",
    "    class populationProspect(Continent >> int, FunctionalProperty): pass\n",
    "    class sexRatio(Country >> float, FunctionalProperty): pass\n",
    "    class tzOffset(Country >> str, FunctionalProperty): pass\n",
    "    class ed_EnergyProduction(Country >> int, FunctionalProperty): pass\n",
    "    class ed_EnergySupplyPerCapita(Country >> int, FunctionalProperty): pass\n",
    "    class ed_ForestedArea(Country >> int, FunctionalProperty): pass\n",
    "    class ed_ImportantSites(Country >> int, FunctionalProperty): pass\n",
    "    class ed_InternetUsers(Country >> float, FunctionalProperty): pass\n",
    "    class ed_NetOfficialAssistReceived(Country >> float, FunctionalProperty): pass\n",
    "    class ed_ThreatenedSpecies(Country >> int, FunctionalProperty): pass\n",
    "    class sd_CurrentHealthExpenditure(Country >> float, FunctionalProperty): pass\n",
    "    class sd_EducationExpenditure(Country >> float, FunctionalProperty): pass\n",
    "    class sd_InfantMortalityRate(Country >> float, FunctionalProperty): pass\n",
    "    class sd_IntentionalHomicideRate(Country >> float, FunctionalProperty): pass\n",
    "    class sd_InternationalMigrantStock(Country >> float, FunctionalProperty): pass\n",
    "    class sd_PhysiciansRatio(Country >> float, FunctionalProperty): pass\n",
    "    class sd_PopulationGrowthRate(Country >> float, FunctionalProperty): pass\n",
    "    class sd_PrimaryGrossEnrolRatio(Country >> float, FunctionalProperty): pass\n",
    "    class sd_RefugeesAndOthers(Country >> float, FunctionalProperty): pass\n",
    "    class sd_SeatsWomenParliament(Country >> float, FunctionalProperty): pass\n",
    "    class sd_SecondaryGrossEnrolRatio(Country >> float, FunctionalProperty): pass\n",
    "    class sd_TertiaryGrossEnrolRatio(Country >> float, FunctionalProperty): pass\n",
    "    class sd_UrbanPopulation(Country >> float, FunctionalProperty): pass\n",
    "\n",
    "\n",
    "    for index, row in continents_df_final.iterrows():\n",
    "        continent =Continent(row['Index.1'], ns_continent, fullName=row['Index.1']) \n",
    "        if row['Population(000, 2020)']: continent.population = int(row['Population(000, 2020)'])\n",
    "        if row['Surface area(km2)']: continent.area = int(row['Surface area(km2)'])\n",
    "            \n",
    "geo_ontology.save(file=\"./output/ontology.owl\")"
   ]
  },
  {
   "cell_type": "code",
   "execution_count": null,
   "metadata": {},
   "outputs": [],
   "source": []
  }
 ],
 "metadata": {
  "kernelspec": {
   "display_name": "Python 3",
   "language": "python",
   "name": "python3"
  },
  "language_info": {
   "codemirror_mode": {
    "name": "ipython",
    "version": 3
   },
   "file_extension": ".py",
   "mimetype": "text/x-python",
   "name": "python",
   "nbconvert_exporter": "python",
   "pygments_lexer": "ipython3",
   "version": "3.6.5"
  }
 },
 "nbformat": 4,
 "nbformat_minor": 2
}
