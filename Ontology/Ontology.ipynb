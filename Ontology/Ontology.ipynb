{
 "cells": [
  {
   "cell_type": "code",
   "execution_count": 1,
   "metadata": {},
   "outputs": [
    {
     "name": "stderr",
     "output_type": "stream",
     "text": [
      "* Owlready2 * Warning: optimized Cython parser module 'owlready2_optimized' is not available, defaulting to slower Python implementation\n"
     ]
    }
   ],
   "source": [
    "import csv\n",
    "import pandas as pd\n",
    "from owlready2 import *\n",
    "import csv"
   ]
  },
  {
   "cell_type": "markdown",
   "metadata": {},
   "source": [
    "# PreProcess"
   ]
  },
  {
   "cell_type": "code",
   "execution_count": 2,
   "metadata": {},
   "outputs": [],
   "source": [
    "def edit_prospect_value(text):    \n",
    "    \n",
    "    if text.replace(\",\", \"\").isnumeric():\n",
    "        return int(text.replace(\",\", \"\"))\n",
    "    else:\n",
    "        return sum( map(int, text.replace(\",\", \"\").replace(\"(N)\", \"\").replace(\"(S)\", \"\").split('/')))\n",
    "    \n",
    "regions_df_final = pd.read_csv('./data/regions_df_final.csv', index_col='Index')    \n",
    "continents_df_final = pd.read_csv('./data/continents_df_final.csv', index_col='Index')    \n",
    "continents_df_final['Population prospect by 2050'] = continents_df_final['Population prospect by 2050'].apply(lambda x: edit_prospect_value(x))"
   ]
  },
  {
   "cell_type": "markdown",
   "metadata": {},
   "source": [
    "# Define Namespces"
   ]
  },
  {
   "cell_type": "code",
   "execution_count": 3,
   "metadata": {},
   "outputs": [],
   "source": [
    "geo_ontology = get_ontology(\"http://ce.sharif.edu/onto\")\n",
    "\n",
    "ns_country = get_ontology(\"http://ce.sharif.edu/onto/country\")\n",
    "ns_region = get_ontology(\"http://ce.sharif.edu/onto/region\")\n",
    "ns_continent = get_ontology(\"http://ce.sharif.edu/onto/continent\")\n",
    "ns_lang = get_ontology(\"http://ce.sharif.edu/onto/language\")"
   ]
  },
  {
   "cell_type": "markdown",
   "metadata": {},
   "source": [
    "# Define Classes"
   ]
  },
  {
   "cell_type": "code",
   "execution_count": 4,
   "metadata": {},
   "outputs": [],
   "source": [
    "with geo_ontology:\n",
    "    class Territory(Thing): \n",
    "        pass\n",
    "    class Country(Territory): \n",
    "        namespace = ns_country\n",
    "        \n",
    "    class Region(Territory): \n",
    "        namespace = ns_region\n",
    "\n",
    "    class Continent(Territory): \n",
    "        namespace = ns_continent\n",
    "        \n",
    "    class Language(Thing):\n",
    "        namespace = ns_lang\n",
    "        \n",
    "    AllDisjoint([Continent, Country, Region, Language])"
   ]
  },
  {
   "cell_type": "markdown",
   "metadata": {},
   "source": [
    "# Object Properties\n"
   ]
  },
  {
   "cell_type": "code",
   "execution_count": 5,
   "metadata": {},
   "outputs": [],
   "source": [
    "with geo_ontology:\n",
    "    \n",
    "    #Country\n",
    "    class neighbourof(Country >> Country): \n",
    "        pass\n",
    "    \n",
    "    class country_has_region(Country >> Region, FunctionalProperty): \n",
    "        pass\n",
    "    \n",
    "    class hasLanguage(Country >> Language): \n",
    "        pass\n",
    "\n",
    "    #Region\n",
    "    class region_has_country(Region >> Country, InverseFunctionalProperty): \n",
    "        inverse_property = country_has_region\n",
    "        \n",
    "    class region_has_subregion(Region >> Region, InverseFunctionalProperty):\n",
    "        pass\n",
    "\n",
    "    class subregion_has_region(Region >> Region, InverseFunctionalProperty):\n",
    "        inverse_property = region_has_subregion\n",
    "    \n",
    "    class region_has_continent(Region >> Continent, FunctionalProperty): \n",
    "        pass\n",
    "    \n",
    "    \n",
    "    #Continent\n",
    "    class continent_has_region(Continent >> Region): \n",
    "        inverse_property = region_has_continent\n"
   ]
  },
  {
   "cell_type": "markdown",
   "metadata": {},
   "source": [
    "# Data Type Properties\n"
   ]
  },
  {
   "cell_type": "code",
   "execution_count": 6,
   "metadata": {},
   "outputs": [],
   "source": [
    "with geo_ontology:\n",
    "    \n",
    "    #Teritory\n",
    "    class tr_name(Territory >> str, FunctionalProperty): pass\n",
    "    class tr_population(Territory >> int, FunctionalProperty): pass\n",
    "    class tr_area(Territory >> int, FunctionalProperty): pass\n",
    "    class tr_pupulation_prospect(Continent >> int, FunctionalProperty): pass\n",
    "    "
   ]
  },
  {
   "cell_type": "markdown",
   "metadata": {},
   "source": [
    "# Insert Data"
   ]
  },
  {
   "cell_type": "code",
   "execution_count": 7,
   "metadata": {},
   "outputs": [],
   "source": [
    "def convertURI(text):\n",
    "    return text.replace(\"&\", \"and\").replace(\" \", \"_\").replace(\"-\", \"_\")"
   ]
  },
  {
   "cell_type": "code",
   "execution_count": 8,
   "metadata": {},
   "outputs": [],
   "source": [
    "with geo_ontology:\n",
    "    for index, row in continents_df_final.iterrows():\n",
    "        the_continent = Continent(convertURI(row['Index.1']), ns_continent, tr_name=row['Index.1']) \n",
    "        if row['Surface area(km2)']: the_continent.tr_area = int(row['Surface area(km2)'])\n",
    "        if row['Population(000, 2020)']: the_continent.tr_population = int(row['Population(000, 2020)'])\n",
    "        if row['Population prospect by 2050']: the_continent.tr_pupulation_prospect = int(row['Population prospect by 2050'])\n",
    "\n",
    "        if row['Regions']:\n",
    "            for i in row['Regions'].replace(\"[\",\"\").replace(\"]\", \"\").replace(\"'\",\"\").split(\", \"):\n",
    "                the_region = Region(convertURI(i), ns_region) \n",
    "                the_continent.continent_has_region.append(the_region)"
   ]
  },
  {
   "cell_type": "code",
   "execution_count": 10,
   "metadata": {},
   "outputs": [],
   "source": [
    "with geo_ontology:\n",
    "    for index, row in regions_df_final.iterrows():\n",
    "        the_region = Region(convertURI(row['Index.1']), ns_region, tr_name=row['Index.1']) \n",
    "        if row['Surface area(km2)']: the_region.tr_area = int(row['Surface area(km2)'])\n",
    "        if row['Population(000, 2020)']: the_region.tr_population = int(row['Population(000, 2020)'])\n",
    "            \n",
    "        if row['Region'] in ['Sub-Saharan Africa', 'Latin America & Caribbean']:\n",
    "            the_super_region = Region(convertURI(row['Region']), ns_region) \n",
    "            the_region.subregion_has_region.append(the_super_region)\n",
    "            \n",
    "        if row['Countries']:\n",
    "            for i in str(row['Countries']).replace(\"[\",\"\").replace(\"]\", \"\").replace(\"'\",\"\").split(\", \"):\n",
    "                the_country = Country(convertURI(i), ns_country) \n",
    "                the_region.region_has_country.append(the_country)   "
   ]
  },
  {
   "cell_type": "code",
   "execution_count": 11,
   "metadata": {},
   "outputs": [],
   "source": [
    "geo_ontology.save(file=\"./output/ontology.owl\")"
   ]
  },
  {
   "cell_type": "code",
   "execution_count": null,
   "metadata": {},
   "outputs": [],
   "source": []
  }
 ],
 "metadata": {
  "kernelspec": {
   "display_name": "Python 3",
   "language": "python",
   "name": "python3"
  },
  "language_info": {
   "codemirror_mode": {
    "name": "ipython",
    "version": 3
   },
   "file_extension": ".py",
   "mimetype": "text/x-python",
   "name": "python",
   "nbconvert_exporter": "python",
   "pygments_lexer": "ipython3",
   "version": "3.6.5"
  }
 },
 "nbformat": 4,
 "nbformat_minor": 2
}
